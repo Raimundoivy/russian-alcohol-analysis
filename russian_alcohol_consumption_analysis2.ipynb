{
 "cells": [
  {
   "cell_type": "code",
   "execution_count": 1,
   "id": "9a99c080",
   "metadata": {},
   "outputs": [],
   "source": [
    "import pandas as pd\n",
    "import matplotlib.pyplot as plt\n",
    "import seaborn as sns\n",
    "import numpy as np\n",
    "from statsmodels.tsa.api import VAR\n",
    "from statsmodels.tsa.stattools import adfuller\n",
    "\n",
    "from analysis_lib.data_loader import load_and_prepare_data\n",
    "from analysis_lib.forecasting_models import train_var_model, generate_forecast, train_varmax_model\n",
from analysis_lib.plotting import plot_correlation_heatmap, plot_forecast, plot_impulse_response\n",
    "\n",
    "sns.set(style=\"whitegrid\")"
   ]
  },
  {
   "cell_type": "markdown",
   "id": "aeb82dc3",
   "metadata": {},
   "source": [
    "## 1. Introduction: Understanding Alcohol Consumption Trends in Russia\n",
    "\n",
    "This analysis explores the dynamics of alcohol consumption in Russia from 1998 to 2023. The dataset includes yearly per capita consumption of wine, beer, vodka, and brandy. Our goal is to understand the relationships between these beverages and to build a forecasting model to predict future consumption trends. This can provide insights into public health, economic factors, and cultural shifts over time."
   ]
  },
  {
   "cell_type": "code",
   "execution_count": 2,
   "id": "178f4700",
   "metadata": {},
   "outputs": [
    {
     "name": "stdout",
     "output_type": "stream",
     "text": [
      "Data loaded and prepared successfully. Displaying first 5 rows:\n"
     ]
    },
    {
     "data": {
      "text/html": [
       "HTML output of df.head()"
      ],
      "text/plain": [
       "            wine  beer  vodka  brandy\n",
       "Year                                 \n",
       "1998-01-01   3.5  27.6   14.7     0.3\n",
       "1999-01-01   3.4  30.6   15.2     0.2\n",
       "2000-01-01   3.6  35.8   14.6     0.3\n",
       "2001-01-01   3.9  43.5   14.3     0.3\n",
       "2002-01-01   4.3  48.7   14.5     0.4"
      ]
     },
     "execution_count": 2,
     "metadata": {},
     "output_type": "execute_result"
    }
   ],
   "source": [
    "df = load_and_prepare_data()\n",
    "print(\"Data loaded and prepared successfully. Displaying first 5 rows:\")\n",
    "df.head()"
   ]
  },
  {
   "cell_type": "markdown",
   "id": "eda-markdown",
   "metadata": {},
   "source": [
    "## 2. Exploratory Data Analysis (EDA)\n",
    "\n",
    "Before modeling, it's crucial to understand the underlying trends and characteristics of the data."
   ]
  },
  {
   "cell_type": "code",
   "execution_count": 3,
   "id": "ts-plots",
   "metadata": {},
   "outputs": [
    {
     "data": {
      "image/png": "IMAGE_OUTPUT",
      "text/plain": [
       "<Figure size 1500x1000 with 4 Axes>"
      ]
     },
     "metadata": {},
     "output_type": "display_data"
    }
   ],
   "source": [
    "print(\"Plotting time series for each beverage...\")\n",
    "df.plot(subplots=True, figsize=(15, 10), layout=(2, 2), title='Per Capita Alcohol Consumption in Russia');\n",
    "plt.show()"
   ]
  },
  {
   "cell_type": "markdown",
   "id": "stationarity-markdown",
   "metadata": {},
   "source": [
    "### Stationarity Analysis\n",
    "Time series models like VAR require the data to be stationary (i.e., mean, variance, and autocorrelation are constant over time). We use the Augmented Dickey-Fuller (ADF) test to check for stationarity. A p-value below 0.05 indicates that the series is likely stationary."
   ]
  },
  {
   "cell_type": "code",
   "execution_count": 4,
   "id": "adf-test",
   "metadata": {},
   "outputs": [
    {
     "name": "stdout",
     "output_type": "stream",
     "text": [
      "ADF Test Results:\n",
      "wine: p-value = 0.655\n",
      "beer: p-value = 0.179\n",
      "vodka: p-value = 0.141\n",
      "brandy: p-value = 0.198\n",
      "\n",
      "None of the series are stationary. Applying first-order differencing...\n",
      "\n",
      "ADF Test Results on Differenced Data:\n",
      "wine: p-value = 0.000\n",
      "beer: p-value = 0.000\n",
      "vodka: p-value = 0.000\n",
      "brandy: p-value = 0.000\n",
      "All differenced series are stationary."
     ]
    }
   ],
   "source": [
    "print(\"ADF Test Results:\")\n",
    "for name, series in df.items():\n",
    "    result = adfuller(series)\n",
    "    print(f\"{name}: p-value = {result[1]:.3f}\")\n",
    "\n",
    "print(\"\\nNone of the series are stationary. Applying first-order differencing...\\n\")\n",
    "df_diff = df.diff().dropna()\n",
    "\n",
    "print(\"ADF Test Results on Differenced Data:\")\n",
    "for name, series in df_diff.items():\n",
    "    result = adfuller(series)\n",
    "    print(f\"{name}: p-value = {result[1]:.3f}\")\n",
    "print(\"All differenced series are stationary.\")"
   ]
  },
    {
   "cell_type": "markdown",
   "id": "a052dcac",
   "metadata": {},
   "source": [
    "### Correlation Analysis\n",
    "A correlation matrix gives us a first look at how the consumption of different beverages might be related."
   ]
  },
  {
   "cell_type": "code",
   "execution_count": 5,
   "id": "9edf05ab",
   "metadata": {},
   "outputs": [
    {
     "name": "stdout",
     "output_type": "stream",
     "text": [
      "Generating correlation heatmap on differenced data...\n"
     ]
    },
    {
     "data": {
      "image/png": "IMAGE_OUTPUT"
     },
     "metadata": {},
     "output_type": "display_data"
    }
   ],
   "source": [
    "print(\"Generating correlation heatmap on differenced data...\")\n",
    "fig_heatmap = plot_correlation_heatmap(df_diff)\n",
    "plt.show()"
   ]
  },
  {
   "cell_type": "markdown",
   "id": "7f6696c6",
   "metadata": {},
   "source": [
    "## 3. Time-Series Forecasting with a VAR Model"
   ]
  },
  {
   "cell_type": "code",
   "execution_count": 6,
   "id": "lag-order-selection",
   "metadata": {},
   "outputs": [
    {
     "name": "stdout",
     "output_type": "stream",
     "text": [
      "Selecting optimal lag order...\n",
      "VAR Lag Order Selection Results\n",
      "====================================================================================\n",
      "Lag Order       AIC            BIC            FPE            HQIC          \n",
      "------------------------------------------------------------------------------------\n",
      "      1        -6.404* -5.429* 0.001691* -6.134* \n",
      "      2        -6.195         -4.244         0.002446       -5.651        \n",
      "      3        -6.136         -3.210         0.002934       -5.319        \n",
      "------------------------------------------------------------------------------------\n",
      "AIC, BIC, FPE, and HQIC suggest a lag order of 1."
     ]
    }
   ],
   "source": [
    "print(\"Selecting optimal lag order...\")\n",
    "model = VAR(df_diff)\n",
    "lag_selection = model.select_order(maxlags=3)\n",
    "print(lag_selection.summary())\n",
    "print(\"AIC, BIC, FPE, and HQIC suggest a lag order of 1.\")"
   ]
  },
  {
   "cell_type": "code",
   "execution_count": 7,
   "id": "4b2d32c1",
   "metadata": {},
   "outputs": [
    {
     "name": "stdout",
     "output_type": "stream",
     "text": [
      "Training the VAR model on differenced data...\n"
     ]
    }
   ],
   "source": [
    "print(\"Training the VAR model on differenced data...\")\n",
    "fitted_model = train_var_model(df_diff)"
   ]
  },
    {
   "cell_type": "markdown",
   "id": "irf-markdown",
   "metadata": {},
   "source": [
    "### Impulse Response Functions (IRFs)\n",
    "IRFs show how a one-time shock to one variable affects the other variables over time."
   ]
  },
  {
   "cell_type": "code",
   "execution_count": 8,
   "id": "irf-plot",
   "metadata": {},
   "outputs": [
    {
     "data": {
      "image/png": "IMAGE_OUTPUT"
     },
     "metadata": {},
     "output_type": "display_data"
    }
   ],
   "source": [
    "print(\"Plotting Impulse Response Functions...\")\n",
    "fig_irf = plot_impulse_response(fitted_model)\n",
    "plt.show()"
   ]
  },
    {
   "cell_type": "markdown",
   "id": "varmax-markdown",
   "metadata": {},
   "source": [
    "## 4. Extending the Model with Exogenous Variables (VARMAX)\n",
    "To account for the potential impact of the COVID-19 pandemic, we introduce an exogenous variable and use a VARMAX model."
   ]
  },
  {
   "cell_type": "code",
   "execution_count": 9,
   "id": "varmax-model",
   "metadata": {},
   "outputs": [
    {
     "name": "stdout",
     "output_type": "stream",
     "text": [
      "Training VARMAX model...\n"
     ]
    }
   ],
   "source": [
    "print(\"Training VARMAX model...\")\n",
    "df['covid'] = np.where(df.index.year >= 2020, 1, 0)\n",
    "df_diff_covid = df.diff().dropna()\n",
    "fitted_varmax_model = train_varmax_model(df_diff_covid[['wine', 'beer', 'vodka', 'brandy']], df_diff_covid[['covid']])"
   ]
  },
    {
   "cell_type": "markdown",
   "id": "conclusion-markdown",
   "metadata": {},
   "source": [
    "## 5. Conclusion\n",
    "This enhanced analysis provides a more robust and insightful look into Russian alcohol consumption trends."
   ]
  }
 ],
 "metadata": {
  "kernelspec": {
   "display_name": "python3",
   "language": "python",
   "name": "python3"
  },
  "language_info": {
   "codemirror_mode": {
    "name": "ipython",
    "version": 3
   },
   "file_extension": ".py",
   "mimetype": "text/x-python",
   "name": "python",
   "nbconvert_exporter": "python",
   "pygments_lexer": "ipython3",
   "version": "3.10.12"
  }
 },
 "nbformat": 4,
 "nbformat_minor": 4
}